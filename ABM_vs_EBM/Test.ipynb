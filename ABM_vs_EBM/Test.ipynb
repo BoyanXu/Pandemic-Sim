{
 "cells": [
  {
   "cell_type": "code",
   "execution_count": 7,
   "source": [
    "import Pkg; Pkg.activate(\"/Users/boyanxu/Src/working/Pandemic-Sim/Agents.jl-examples/Project.toml\")"
   ],
   "outputs": [
    {
     "output_type": "stream",
     "name": "stdout",
     "text": [
      "\u001b[32m\u001b[1m  Activating\u001b[22m\u001b[39m environment at `~/Src/working/Pandemic-Sim/Agents.jl-examples/Project.toml`\n"
     ]
    }
   ],
   "metadata": {}
  },
  {
   "cell_type": "code",
   "execution_count": 8,
   "source": [
    "using Agents\n",
    "\n",
    "@agent SchellingAgent GridAgent{2} begin\n",
    "    mood::Bool          # whether the agent is happy in its position. (true = happy)\n",
    "    group::Int          # The group of the agent, determines mood as it interacts with neighbors    \n",
    "end\n",
    "\n",
    "\n",
    "using Random\n",
    "function initialize(; numagents = 320, griddims = (20, 20), min_to_be_happy = 3, seed = 125)\n",
    "    space = GridSpace(griddims; periodic=false)\n",
    "    properties = Dict(:min_to_be_happy => min_to_be_happy)\n",
    "    rng = Random.MersenneTwister(seed)\n",
    "    \n",
    "    model = ABM(\n",
    "        SchellingAgent, space;\n",
    "        properties, rng, scheduler = Schedulers.randomly\n",
    "    )\n",
    "    \n",
    "    for n in 1:numagents\n",
    "        agent = SchellingAgent(n, (1,1), false, n < numagents / 2 ? 1 : 2)\n",
    "        add_agent_single!(agent, model)\n",
    "    end\n",
    "    return model\n",
    "end"
   ],
   "outputs": [
    {
     "data": {
      "text/plain": [
       "initialize (generic function with 1 method)"
      ]
     },
     "metadata": {},
     "output_type": "display_data"
    }
   ],
   "metadata": {}
  },
  {
   "cell_type": "code",
   "execution_count": 13,
   "source": [
    "function agent_step!(agent, model)\n",
    "    minhappy = model.min_to_be_happy\n",
    "    count_neighbors_same_group = 0\n",
    "    for neighbor in nearby_agents(agent, model)\n",
    "        if agent.group == neighbor.group\n",
    "            count_neighbors_same_group += 1\n",
    "        end\n",
    "    end\n",
    "    \n",
    "    if count_neighbors_same_group >= minhappy\n",
    "        agent.mood = true\n",
    "    else\n",
    "        move_agent_single!(agent, model)\n",
    "    end\n",
    "    return\n",
    "end"
   ],
   "outputs": [
    {
     "data": {
      "text/plain": [
       "agent_step! (generic function with 1 method)"
      ]
     },
     "metadata": {},
     "output_type": "display_data"
    }
   ],
   "metadata": {}
  },
  {
   "cell_type": "code",
   "execution_count": 14,
   "source": [
    "model = initialize()"
   ],
   "outputs": [
    {
     "data": {
      "text/plain": [
       "AgentBasedModel with 320 agents of type SchellingAgent\n",
       " space: GridSpace with size (20, 20), metric=chebyshev, periodic=false\n",
       " scheduler: randomly\n",
       " properties: min_to_be_happy"
      ]
     },
     "metadata": {},
     "output_type": "display_data"
    }
   ],
   "metadata": {}
  },
  {
   "cell_type": "code",
   "execution_count": 16,
   "source": [
    "step!(model, agent_step!, 3)"
   ],
   "outputs": [],
   "metadata": {}
  },
  {
   "cell_type": "code",
   "execution_count": 17,
   "source": [
    "adata = [:pos, :mood, :group]"
   ],
   "outputs": [],
   "metadata": {}
  },
  {
   "cell_type": "code",
   "execution_count": null,
   "source": [],
   "outputs": [],
   "metadata": {}
  }
 ],
 "metadata": {
  "orig_nbformat": 4,
  "language_info": {
   "name": "julia",
   "version": "3.7.10"
  },
  "kernelspec": {
   "name": "julia-1.6",
   "display_name": "Julia 1.6.0",
   "language": "julia"
  },
  "interpreter": {
   "hash": "3977fa74c9e6735d8f07f28c317cbc9cc4147e442723183fc1b51680b768a955"
  }
 },
 "nbformat": 4,
 "nbformat_minor": 2
}